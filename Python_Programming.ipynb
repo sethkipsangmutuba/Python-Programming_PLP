{
  "nbformat": 4,
  "nbformat_minor": 0,
  "metadata": {
    "colab": {
      "provenance": [],
      "authorship_tag": "ABX9TyMC4fxGQXDT6TzhDtwqtHtn",
      "include_colab_link": true
    },
    "kernelspec": {
      "name": "python3",
      "display_name": "Python 3"
    },
    "language_info": {
      "name": "python"
    }
  },
  "cells": [
    {
      "cell_type": "markdown",
      "metadata": {
        "id": "view-in-github",
        "colab_type": "text"
      },
      "source": [
        "<a href=\"https://colab.research.google.com/github/sethkipsangmutuba/Python-Programming_PLP/blob/Deeplearning/Python_Programming.ipynb\" target=\"_parent\"><img src=\"https://colab.research.google.com/assets/colab-badge.svg\" alt=\"Open In Colab\"/></a>"
      ]
    },
    {
      "cell_type": "markdown",
      "source": [
        "# Python Programming Exercise 1"
      ],
      "metadata": {
        "id": "JoS_6tOi7MfP"
      }
    },
    {
      "cell_type": "markdown",
      "source": [
        "Intro to Python Assignment\n",
        "Objective: To learn how to take user input in Python\n",
        "\n",
        "\n",
        "\n",
        "Write a program that asks the user for their name, age, and location and then prints out a personalized message.\n",
        "\n",
        "\n",
        "\n",
        "Instructions:\n",
        "\n",
        "\n",
        "\n",
        "Create a new Python file and name it \"user_input.py\"\n",
        "\n",
        "\n",
        "Use the input() function to ask the user for their name and store it in a variable called \"name\".\n",
        "\n",
        "\n",
        "Use the input() function to ask the user for their age and store it in a variable called \"age\".\n",
        "\n",
        "\n",
        "Use the input() function to ask the user for their location and store it in a variable called \"location\".\n",
        "\n",
        "\n",
        "Print out a personalized message using the user's name, age, and location. For example: \"Hello [name], you are [age] years old and live in [location].\"\n",
        "Save and run the program to see the output.\n",
        "\n",
        "\n",
        "Note: Upload the code to github and submit the github link"
      ],
      "metadata": {
        "id": "lwQBcYClUv-O"
      }
    },
    {
      "cell_type": "code",
      "source": [
        "# Exercise: User Input in Python\n",
        "\n",
        "# Ask the user for their name and store it in a variable\n",
        "name = input(\"Please enter your name: \")\n",
        "\n",
        "# Ask the user for their age and store it in a variable\n",
        "age = input(\"Please enter your age: \")\n",
        "\n",
        "# Ask the user for their location and store it in a variable\n",
        "location = input(\"Please enter your location: \")\n",
        "\n",
        "# Print out a personalized message using the user's input\n",
        "print(f\"Hello {name}, you are {age} years old and live in {location}.\")\n"
      ],
      "metadata": {
        "colab": {
          "base_uri": "https://localhost:8080/"
        },
        "id": "n29VyY6H7RSm",
        "outputId": "531da00a-1286-4cf5-fb7a-bfe2fb9bcc7f"
      },
      "execution_count": 6,
      "outputs": [
        {
          "output_type": "stream",
          "name": "stdout",
          "text": [
            "Please enter your name: Seth Kipsang Mutuba\n",
            "Please enter your age: 28\n",
            "Please enter your location: Nairobi\n",
            "Hello Seth Kipsang Mutuba, you are 28 years old and live in Nairobi.\n"
          ]
        }
      ]
    }
  ]
}