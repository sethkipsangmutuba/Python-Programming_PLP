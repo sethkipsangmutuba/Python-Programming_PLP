{
  "nbformat": 4,
  "nbformat_minor": 0,
  "metadata": {
    "colab": {
      "provenance": [],
      "authorship_tag": "ABX9TyNMHSb78OHKlEjkL6On9jhv",
      "include_colab_link": true
    },
    "kernelspec": {
      "name": "python3",
      "display_name": "Python 3"
    },
    "language_info": {
      "name": "python"
    }
  },
  "cells": [
    {
      "cell_type": "markdown",
      "metadata": {
        "id": "view-in-github",
        "colab_type": "text"
      },
      "source": [
        "<a href=\"https://colab.research.google.com/github/sethkipsangmutuba/Python-Programming_PLP/blob/Deeplearning/5)%20Python_Programming.ipynb\" target=\"_parent\"><img src=\"https://colab.research.google.com/assets/colab-badge.svg\" alt=\"Open In Colab\"/></a>"
      ]
    },
    {
      "cell_type": "markdown",
      "source": [
        "# Python Programming Exercise 4"
      ],
      "metadata": {
        "id": "JoS_6tOi7MfP"
      }
    },
    {
      "cell_type": "markdown",
      "source": [
        "File Handling Assignment\n",
        "\n",
        "\n",
        "Demonstrate your understanding of Python file handling by completing the following tasks.\n",
        "\n",
        "\n",
        "Tasks:\n",
        "\n",
        "\n",
        "File Creation:\n",
        "\n",
        "Create a Python script (file_handling_assignment.py) that does the following:\n",
        "Creates a new text file named \"my_file.txt\" in write mode ('w').\n",
        "Write at least three lines of text to the file, including a mix of strings and numbers.\n",
        "\n",
        "\n",
        "File Reading and Display:\n",
        "\n",
        "Enhance your script to read the contents of \"my_file.txt\" and display them on the console.\n",
        "\n",
        "\n",
        "File Appending:\n",
        "\n",
        "Modify the script to open \"my_file.txt\" in append mode ('a').\n",
        "Append three additional lines of text to the existing content.\n",
        "\n",
        "\n",
        "Error Handling:\n",
        "\n",
        "Implement error handling using try, except, and finally blocks to manage potential file-related exceptions (e.g., FileNotFoundError, PermissionError).\n",
        "\n",
        "\n",
        "\n",
        "Submission:\n",
        "\n",
        "Share the link to your GitHub repository with the completed assignment.\n",
        "Ensure that your repository is public so that it can be accessed for review.\n"
      ],
      "metadata": {
        "id": "6B-cJ8xP25KO"
      }
    },
    {
      "cell_type": "code",
      "source": [
        "# File: file_handling_assignment.py\n",
        "\n",
        "def create_file():\n",
        "    try:\n",
        "        # Create a new text file named \"my_file.txt\" in write mode ('w')\n",
        "        with open(\"my_file.txt\", \"w\") as file:\n",
        "            # Write at least three lines of text to the file\n",
        "            file.write(\"This is the first line.\\n\")\n",
        "            file.write(\"Here is the second line with a number: 42\\n\")\n",
        "            file.write(\"Finally, the third line.\\n\")\n",
        "        print(\"File created and initial content written successfully.\")\n",
        "    except (PermissionError, IOError) as e:\n",
        "        print(f\"Error while creating/writing to the file: {e}\")\n",
        "\n",
        "def read_file():\n",
        "    try:\n",
        "        # Read the contents of \"my_file.txt\" and display them on the console\n",
        "        with open(\"my_file.txt\", \"r\") as file:\n",
        "            content = file.read()\n",
        "            print(\"File contents:\")\n",
        "            print(content)\n",
        "    except FileNotFoundError:\n",
        "        print(\"Error: The file 'my_file.txt' does not exist.\")\n",
        "    except PermissionError:\n",
        "        print(\"Error: Permission denied while reading the file.\")\n",
        "    except IOError as e:\n",
        "        print(f\"Error while reading the file: {e}\")\n",
        "\n",
        "def append_to_file():\n",
        "    try:\n",
        "        # Open \"my_file.txt\" in append mode ('a') and append three additional lines\n",
        "        with open(\"my_file.txt\", \"a\") as file:\n",
        "            file.write(\"Appending a new line.\\n\")\n",
        "            file.write(\"Another appended line.\\n\")\n",
        "            file.write(\"Yet another line added.\\n\")\n",
        "        print(\"Additional lines appended successfully.\")\n",
        "    except PermissionError:\n",
        "        print(\"Error: Permission denied while appending to the file.\")\n",
        "    except IOError as e:\n",
        "        print(f\"Error while appending to the file: {e}\")\n",
        "\n",
        "def main():\n",
        "    create_file()\n",
        "    read_file()\n",
        "    append_to_file()\n",
        "    read_file()\n",
        "\n",
        "if __name__ == \"__main__\":\n",
        "    main()\n"
      ],
      "metadata": {
        "colab": {
          "base_uri": "https://localhost:8080/"
        },
        "id": "k4eR5vhzDge2",
        "outputId": "dd14e950-0cf7-4cd5-9302-32be02bdb10f"
      },
      "execution_count": 39,
      "outputs": [
        {
          "output_type": "stream",
          "name": "stdout",
          "text": [
            "File created and initial content written successfully.\n",
            "File contents:\n",
            "This is the first line.\n",
            "Here is the second line with a number: 42\n",
            "Finally, the third line.\n",
            "\n",
            "Additional lines appended successfully.\n",
            "File contents:\n",
            "This is the first line.\n",
            "Here is the second line with a number: 42\n",
            "Finally, the third line.\n",
            "Appending a new line.\n",
            "Another appended line.\n",
            "Yet another line added.\n",
            "\n"
          ]
        }
      ]
    }
  ]
}