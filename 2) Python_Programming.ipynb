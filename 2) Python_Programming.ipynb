{
  "nbformat": 4,
  "nbformat_minor": 0,
  "metadata": {
    "colab": {
      "provenance": [],
      "authorship_tag": "ABX9TyPpO1OMIeN4fHMtqgRmTHZT",
      "include_colab_link": true
    },
    "kernelspec": {
      "name": "python3",
      "display_name": "Python 3"
    },
    "language_info": {
      "name": "python"
    }
  },
  "cells": [
    {
      "cell_type": "markdown",
      "metadata": {
        "id": "view-in-github",
        "colab_type": "text"
      },
      "source": [
        "<a href=\"https://colab.research.google.com/github/sethkipsangmutuba/Python-Programming_PLP/blob/Deeplearning/2)%20Python_Programming.ipynb\" target=\"_parent\"><img src=\"https://colab.research.google.com/assets/colab-badge.svg\" alt=\"Open In Colab\"/></a>"
      ]
    },
    {
      "cell_type": "markdown",
      "source": [
        "# Python Programming Exercise 2"
      ],
      "metadata": {
        "id": "JoS_6tOi7MfP"
      }
    },
    {
      "cell_type": "markdown",
      "source": [
        "Week Two Assignment\n",
        "\n",
        "\n",
        "Submit a github repo link for the assignment below\n",
        "\n",
        "\n",
        "\n",
        "\n",
        "Create an empty list called my_list.\n",
        "\n",
        "\n",
        "Append the following elements to my_list: 10, 20, 30, 40.\n",
        "\n",
        "\n",
        "Insert the value 15 at the second position in the list.\n",
        "\n",
        "\n",
        "Extend my_list with another list: [50, 60, 70].\n",
        "\n",
        "\n",
        "Remove the last element from my_list.\n",
        "\n",
        "\n",
        "Sort my_list in ascending order.\n",
        "\n",
        "\n",
        "Find and print the index of the value 30 in my_list."
      ],
      "metadata": {
        "id": "lwQBcYClUv-O"
      }
    },
    {
      "cell_type": "code",
      "source": [
        "# Create an empty list\n",
        "my_list = []\n",
        "print(\"Initial list:\", my_list)\n",
        "\n",
        "# Append elements to the list\n",
        "my_list.append(10)\n",
        "my_list.append(20)\n",
        "my_list.append(30)\n",
        "my_list.append(40)\n",
        "print(\"After appending elements:\", my_list)\n",
        "\n",
        "# Insert the value 15 at the second position\n",
        "my_list.insert(1, 15)\n",
        "print(\"After inserting 15 at the second position:\", my_list)\n",
        "\n",
        "# Extend the list with another list\n",
        "my_list.extend([50, 60, 70])\n",
        "print(\"After extending with [50, 60, 70]:\", my_list)\n",
        "\n",
        "# Remove the last element from the list\n",
        "my_list.pop()\n",
        "print(\"After removing the last element:\", my_list)\n",
        "\n",
        "# Sort the list in ascending order\n",
        "my_list.sort()\n",
        "print(\"After sorting in ascending order:\", my_list)\n",
        "\n",
        "# Find and print the index of the value 30\n",
        "index_of_30 = my_list.index(30)\n",
        "print(\"Index of 30:\", index_of_30)\n"
      ],
      "metadata": {
        "colab": {
          "base_uri": "https://localhost:8080/"
        },
        "id": "n29VyY6H7RSm",
        "outputId": "8135ac85-05cc-4e82-e8f7-f8338fe0260c"
      },
      "execution_count": 9,
      "outputs": [
        {
          "output_type": "stream",
          "name": "stdout",
          "text": [
            "Initial list: []\n",
            "After appending elements: [10, 20, 30, 40]\n",
            "After inserting 15 at the second position: [10, 15, 20, 30, 40]\n",
            "After extending with [50, 60, 70]: [10, 15, 20, 30, 40, 50, 60, 70]\n",
            "After removing the last element: [10, 15, 20, 30, 40, 50, 60]\n",
            "After sorting in ascending order: [10, 15, 20, 30, 40, 50, 60]\n",
            "Index of 30: 3\n"
          ]
        }
      ]
    }
  ]
}