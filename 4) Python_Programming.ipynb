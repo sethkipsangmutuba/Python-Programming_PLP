{
  "nbformat": 4,
  "nbformat_minor": 0,
  "metadata": {
    "colab": {
      "provenance": [],
      "authorship_tag": "ABX9TyO0S9Z16V04SFOFMO6/9aM4",
      "include_colab_link": true
    },
    "kernelspec": {
      "name": "python3",
      "display_name": "Python 3"
    },
    "language_info": {
      "name": "python"
    }
  },
  "cells": [
    {
      "cell_type": "markdown",
      "metadata": {
        "id": "view-in-github",
        "colab_type": "text"
      },
      "source": [
        "<a href=\"https://colab.research.google.com/github/sethkipsangmutuba/Python-Programming_PLP/blob/Deeplearning/4)%20Python_Programming.ipynb\" target=\"_parent\"><img src=\"https://colab.research.google.com/assets/colab-badge.svg\" alt=\"Open In Colab\"/></a>"
      ]
    },
    {
      "cell_type": "markdown",
      "source": [
        "# Python Programming Exercise 4"
      ],
      "metadata": {
        "id": "JoS_6tOi7MfP"
      }
    },
    {
      "cell_type": "markdown",
      "source": [
        "Python OOP Assignment\n",
        "\n",
        "\n",
        "Kindly go through the assignment, and submit the GitHub repo\n",
        "\n",
        "\n",
        "Create a Python class named Person.\n",
        "\n",
        "\n",
        "The Person class should have the following attributes:\n",
        "\n",
        "\n",
        "name: representing the person's name.\n",
        "\n",
        "\n",
        "age: representing the person's age.\n",
        "\n",
        "\n",
        "gender: representing the person's gender.\n",
        "\n",
        "\n",
        "Implement a method called introduce that prints a message introducing the person with their name, age, and gender.\n",
        "\n",
        "\n",
        "Create an instance of the Person class and call the introduce method to display the person's information.\n",
        "\n",
        "\n",
        "Create a GitHub repository for your assignment and submit the link."
      ],
      "metadata": {
        "id": "6B-cJ8xP25KO"
      }
    },
    {
      "cell_type": "code",
      "source": [
        "class Person:\n",
        "    def __init__(self, name, age, gender):\n",
        "        self.name = name\n",
        "        self.age = age\n",
        "        self.gender = gender\n",
        "\n",
        "    def introduce(self):\n",
        "        print(f\"Hello, my name is {self.name}, I am {self.age} years old, and I am {self.gender}.\")\n",
        "\n",
        "# Creating an instance of the Person class\n",
        "person_instance = Person(\"Alice\", 30, \"Female\")\n",
        "\n",
        "# Calling the introduce method to display the person's information\n",
        "person_instance.introduce()\n"
      ],
      "metadata": {
        "colab": {
          "base_uri": "https://localhost:8080/"
        },
        "id": "k4eR5vhzDge2",
        "outputId": "2a71b464-3c7c-48cb-dd94-e30dfe027ff1"
      },
      "execution_count": 38,
      "outputs": [
        {
          "output_type": "stream",
          "name": "stdout",
          "text": [
            "Hello, my name is Alice, I am 30 years old, and I am Female.\n"
          ]
        }
      ]
    }
  ]
}