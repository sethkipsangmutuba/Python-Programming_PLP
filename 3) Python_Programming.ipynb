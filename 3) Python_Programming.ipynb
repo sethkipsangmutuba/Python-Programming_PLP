{
  "nbformat": 4,
  "nbformat_minor": 0,
  "metadata": {
    "colab": {
      "provenance": [],
      "authorship_tag": "ABX9TyNr4mmSnum3h5otY3yOfyeZ",
      "include_colab_link": true
    },
    "kernelspec": {
      "name": "python3",
      "display_name": "Python 3"
    },
    "language_info": {
      "name": "python"
    }
  },
  "cells": [
    {
      "cell_type": "markdown",
      "metadata": {
        "id": "view-in-github",
        "colab_type": "text"
      },
      "source": [
        "<a href=\"https://colab.research.google.com/github/sethkipsangmutuba/Python-Programming_PLP/blob/Deeplearning/3)%20Python_Programming.ipynb\" target=\"_parent\"><img src=\"https://colab.research.google.com/assets/colab-badge.svg\" alt=\"Open In Colab\"/></a>"
      ]
    },
    {
      "cell_type": "markdown",
      "source": [
        "# Python Programming Exercise 3"
      ],
      "metadata": {
        "id": "JoS_6tOi7MfP"
      }
    },
    {
      "cell_type": "markdown",
      "source": [
        "Week 3 Assignment\n",
        "Submit a github repo link for the assignment below\n",
        "\n",
        "\n",
        "Create a function named calculate_discount(price, discount_percent) that calculates the final price after applying a discount. The function should take the original price (price) and the discount percentage (discount_percent) as parameters. If the discount is 20% or higher, apply the discount; otherwise, return the original price.\n",
        "\n",
        "\n",
        "Using the calculate_discount function, prompt the user to enter the original price of an item and the discount percentage. Print the final price after applying the discount, or if no discount was applied, print the original price."
      ],
      "metadata": {
        "id": "6B-cJ8xP25KO"
      }
    },
    {
      "cell_type": "code",
      "source": [
        "def calculate_discount(price, discount_percent):\n",
        "    \"\"\"\n",
        "    Calculate the final price after applying a discount.\n",
        "\n",
        "    Parameters:\n",
        "    - price (float): The original price of the item.\n",
        "    - discount_percent (float): The discount percentage to be applied.\n",
        "\n",
        "    Returns:\n",
        "    - float: The final price after applying the discount if it's 20% or higher; otherwise, the original price.\n",
        "    \"\"\"\n",
        "    if discount_percent >= 20:\n",
        "        return price * (1 - discount_percent / 100)\n",
        "    else:\n",
        "        return price\n",
        "\n",
        "# Prompt the user for input\n",
        "try:\n",
        "    price = float(input(\"Enter the original price of the item: \"))\n",
        "    discount_percent = float(input(\"Enter the discount percentage: \"))\n",
        "\n",
        "    # Calculate the final price\n",
        "    final_price = calculate_discount(price, discount_percent)\n",
        "\n",
        "    # Display the result\n",
        "    if final_price < price:\n",
        "        print(f\"The final price after applying the discount is: ${final_price:.2f}\")\n",
        "    else:\n",
        "        print(f\"No discount applied. The original price is: ${price:.2f}\")\n",
        "except ValueError:\n",
        "    print(\"Invalid input. Please enter numeric values.\")\n"
      ],
      "metadata": {
        "colab": {
          "base_uri": "https://localhost:8080/"
        },
        "id": "03sYExD-2diF",
        "outputId": "cec84c69-8c9e-4096-a05c-d97042af9489"
      },
      "execution_count": 21,
      "outputs": [
        {
          "output_type": "stream",
          "name": "stdout",
          "text": [
            "Enter the original price of the item: 300000\n",
            "Enter the discount percentage: 25\n",
            "The final price after applying the discount is: $225000.00\n"
          ]
        }
      ]
    }
  ]
}